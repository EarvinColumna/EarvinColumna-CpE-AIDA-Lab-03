{
  "nbformat": 4,
  "nbformat_minor": 0,
  "metadata": {
    "colab": {
      "provenance": [],
      "include_colab_link": true
    },
    "kernelspec": {
      "name": "python3",
      "display_name": "Python 3"
    },
    "language_info": {
      "name": "python"
    }
  },
  "cells": [
    {
      "cell_type": "markdown",
      "metadata": {
        "id": "view-in-github",
        "colab_type": "text"
      },
      "source": [
        "<a href=\"https://colab.research.google.com/github/EarvinColumna/EarvinColumna-CpE-AIDA-Lab-03/blob/main/58052_Columna_Fundamentals_of_Linear_Algebra_for_Machine_Learning_and_Data_Science_(Part_1).ipynb\" target=\"_parent\"><img src=\"https://colab.research.google.com/assets/colab-badge.svg\" alt=\"Open In Colab\"/></a>"
      ]
    },
    {
      "cell_type": "markdown",
      "source": [
        "# Activity 02: Fundamentals of Linear Algebra for Machine Learning and Data Science (Part 1)\n",
        "$_{\\text{Machine Learning / Deep Learning Course | © D.J. Lopez 2023}}$"
      ],
      "metadata": {
        "id": "C9NmuVsyJ_aC"
      }
    },
    {
      "cell_type": "code",
      "execution_count": 68,
      "metadata": {
        "id": "P42zJ6Ap3fQr"
      },
      "outputs": [],
      "source": [
        "## Don't edit this cell nor import any other libraries in any part of this notebook\n",
        "\n",
        "import matplotlib.pyplot as plt\n",
        "import numpy as np\n",
        "import pandas as pd\n",
        "import seaborn as sns"
      ]
    },
    {
      "cell_type": "markdown",
      "source": [
        "## Part 1\n",
        "\n",
        "Using the dictionary `word_dict`: \n",
        "\n",
        "*   Determine the similarity of the keys to each other. \n",
        "*   Plot the similarity and provide insights using the plotted visualization.\n",
        "*   Display a confusion matrix with values similar to the table below\n",
        "\n",
        "|    |   w1   |   w2   |   w3  |   w4  |\n",
        "|----|--------|--------|-------|-------|\n",
        "|w1  |  1     |  0.793 |  0.823|  0.609|\n",
        "|w2  | 0.793  |  1     |  0.999|  0    |\n",
        "|w3  | 0.823  |  0.999 |  1    |  0.051|\n",
        "|w4  | 0.609  |  0     |  0.051|  1    |"
      ],
      "metadata": {
        "id": "BVyC39ev3n-j"
      }
    },
    {
      "cell_type": "code",
      "source": [
        "word_dict = {'conflagration': ['0.0513', '0.9788'],\n",
        "             'mayhem': ['0.7540', '0.8824'],\n",
        "             'cataclysm': ['0.6115', '0.9788'],\n",
        "             'serenity': ['-0.8824', '0.754']}"
      ],
      "metadata": {
        "id": "abFZh3X23m_-"
      },
      "execution_count": 69,
      "outputs": []
    },
    {
      "cell_type": "markdown",
      "source": [
        "##Determine the similarity of the keys to each other."
      ],
      "metadata": {
        "id": "QbvkjM_oiUy-"
      }
    },
    {
      "cell_type": "code",
      "source": [
        "# Insert code here\n",
        "# Determine the similarity of the keys to each other.\n",
        "\n",
        "ks = np.array([list(map(float, word_dict[word])) for word in word_dict])\n",
        "\n",
        "#computing for cosine similiraty\n",
        "sm_ks = np.dot(ks, ks.T) / (np.linalg.norm(ks, axis=1) * np.linalg.norm(ks, axis=1)[:, np.newaxis])\n",
        "sm_ks"
      ],
      "metadata": {
        "colab": {
          "base_uri": "https://localhost:8080/"
        },
        "id": "_hPX8QyN6bms",
        "outputId": "72a99721-3c70-4060-f646-c1f864b446fc"
      },
      "execution_count": 70,
      "outputs": [
        {
          "output_type": "execute_result",
          "data": {
            "text/plain": [
              "array([[1.00000000e+00, 7.93212084e-01, 8.74664821e-01, 6.08945473e-01],\n",
              "       [7.93212084e-01, 1.00000000e+00, 9.88967763e-01, 6.77738011e-18],\n",
              "       [8.74664821e-01, 9.88967763e-01, 1.00000000e+00, 1.48130899e-01],\n",
              "       [6.08945473e-01, 6.77738011e-18, 1.48130899e-01, 1.00000000e+00]])"
            ]
          },
          "metadata": {},
          "execution_count": 70
        }
      ]
    },
    {
      "cell_type": "markdown",
      "source": [
        "# Plot the similarity and provide insights using the plotted visualization.\n"
      ],
      "metadata": {
        "id": "9YG_EEq78oYs"
      }
    },
    {
      "cell_type": "code",
      "source": [
        "keys = list(word_dict.keys())\n",
        "num_keys = len(keys)\n",
        "sm_mx = np.zeros((num_keys, num_keys))\n",
        "\n",
        "# Calculation of the similarity matrix\n",
        "for i in range(num_keys):\n",
        "    for j in range(num_keys):\n",
        "        vec1 = np.array(word_dict[keys[i]], dtype=np.float)\n",
        "        vec2 = np.array(word_dict[keys[j]], dtype=np.float)\n",
        "        sm_mx[i][j] = np.dot(vec1, vec2) / (np.linalg.norm(vec1) * np.linalg.norm(vec2))\n",
        "\n",
        "# Visualization (heatmap) of the matrix\n",
        "fig, ax = plt.subplots()\n",
        "im = ax.imshow(sm_mx, cmap='Spectral')\n",
        "ax.set_yticks(np.arange(num_keys))\n",
        "ax.set_xticklabels(keys)\n",
        "ax.set_yticklabels(keys)\n",
        "plt.setp(ax.get_xticklabels(), rotation=45, ha=\"right\",\n",
        "         rotation_mode=\"anchor\")\n",
        "for i in range(num_keys):\n",
        "    for j in range(num_keys):\n",
        "        text = ax.text(j, i, \"{:.2f}\".format(similarity_matrix[i, j]),\n",
        "                       ha=\"center\", va=\"center\", color=\"black\", fontsize=12)\n",
        "ax.set_title(\"Similarity Matrix\")\n",
        "fig.tight_layout()\n",
        "plt.show()\n"
      ],
      "metadata": {
        "colab": {
          "base_uri": "https://localhost:8080/",
          "height": 456
        },
        "id": "zuYx7C2M0tPj",
        "outputId": "84978cfd-91ef-40f1-8e6c-f71469218b99"
      },
      "execution_count": null,
      "outputs": [
        {
          "output_type": "stream",
          "name": "stderr",
          "text": [
            "<ipython-input-66-331eff0483cd>:8: DeprecationWarning: `np.float` is a deprecated alias for the builtin `float`. To silence this warning, use `float` by itself. Doing this will not modify any behavior and is safe. If you specifically wanted the numpy scalar type, use `np.float64` here.\n",
            "Deprecated in NumPy 1.20; for more details and guidance: https://numpy.org/devdocs/release/1.20.0-notes.html#deprecations\n",
            "  vec1 = np.array(word_dict[keys[i]], dtype=np.float)\n",
            "<ipython-input-66-331eff0483cd>:9: DeprecationWarning: `np.float` is a deprecated alias for the builtin `float`. To silence this warning, use `float` by itself. Doing this will not modify any behavior and is safe. If you specifically wanted the numpy scalar type, use `np.float64` here.\n",
            "Deprecated in NumPy 1.20; for more details and guidance: https://numpy.org/devdocs/release/1.20.0-notes.html#deprecations\n",
            "  vec2 = np.array(word_dict[keys[j]], dtype=np.float)\n",
            "<ipython-input-66-331eff0483cd>:16: UserWarning: FixedFormatter should only be used together with FixedLocator\n",
            "  ax.set_xticklabels(keys)\n"
          ]
        },
        {
          "output_type": "display_data",
          "data": {
            "text/plain": [
              "<Figure size 432x288 with 1 Axes>"
            ],
            "image/png": "[encoded data removed]"
          },
          "metadata": {
            "needs_background": "light"
          }
        }
      ]
    },
    {
      "cell_type": "markdown",
      "source": [
        "- Based on the heatmap shown above, the words mayhem and cataclysm have the highest similarity. It is followed by conflagration and mayhem and conflagration and cataclysm. Serenity is dissimilar to the other three words, which is also expected given its opposite meaning. "
      ],
      "metadata": {
        "id": "TnnmVeJ6P8RN"
      }
    },
    {
      "cell_type": "markdown",
      "source": [
        "##Display a confusion matrix with values similar to the table below"
      ],
      "metadata": {
        "id": "aGkS17iZikPc"
      }
    },
    {
      "cell_type": "code",
      "source": [
        "# Insert code here\n",
        "# This specific code formats the matrix into a table.\n",
        "table = [['{:.3f}'.format(sm_mx[i,j]) for j in range(len(sm_mx))] for i in range(len(sm_mx))]\n",
        "\n",
        "# Print the table. \".join(row)\" is used to combine data on a key row or an index.\n",
        "for row in table:\n",
        "    print('\\t'.join(row))"
      ],
      "metadata": {
        "colab": {
          "base_uri": "https://localhost:8080/"
        },
        "id": "4ouYzWBPd8HF",
        "outputId": "399714fe-4266-416f-c4b6-979c3a9209e2"
      },
      "execution_count": 71,
      "outputs": [
        {
          "output_type": "stream",
          "name": "stdout",
          "text": [
            "1.000\t0.793\t0.875\t0.609\n",
            "0.793\t1.000\t0.989\t0.000\n",
            "0.875\t0.989\t1.000\t0.148\n",
            "0.609\t0.000\t0.148\t1.000\n"
          ]
        }
      ]
    },
    {
      "cell_type": "markdown",
      "source": [
        "## Part 2\n",
        "\n",
        "In problem case number of the `mldl_lec_lab_02.ipynb` the quota will be met on Sunday which is the succeeding week. \n",
        "Perform three different adjustments/modifications on the variables to successfully meet the quota within the week. \n",
        "Justify your adjustments with supporting code to meet the quota and provide business insights."
      ],
      "metadata": {
        "id": "cuPARXa2_0uh"
      }
    },
    {
      "cell_type": "code",
      "source": [
        "# Insert code here"
      ],
      "metadata": {
        "id": "Er_tAAR_x5mk"
      },
      "execution_count": null,
      "outputs": []
    },
    {
      "cell_type": "markdown",
      "source": [
        "### Part 3"
      ],
      "metadata": {
        "id": "Jbq6n6y3A1Vf"
      }
    },
    {
      "cell_type": "markdown",
      "source": [
        "### The Gramian Matrix\n",
        "A special type of inner product is the inner product between the transpose of a matrix and itself. We can mathematically represent the [Gramian matrix](https://en.wikipedia.org/wiki/Gram_matrix) as:\n",
        "$$G = X^T\\cdot X$$\n",
        "The Gramian/ gram matrix is an important matrix in machine learning. It can be used in several applications such as analysis of parameters in a dataset, a data representation of a dataset, and as a regularization term in regression algorithms."
      ],
      "metadata": {
        "id": "aHxGJ1g8A4_A"
      }
    },
    {
      "cell_type": "markdown",
      "source": [
        "To determine the similarity (cosine) for all of the features of a dataset once we need to obtain the inverse of the Gram Matrix $G^{-1}$ and individually divide each element in $G^{-1}$ with the norm of the repective feature pair considered for correlation analysis. In this activity, we will be using solar irradiance for data exploration."
      ],
      "metadata": {
        "id": "YL49jw7_K7D2"
      }
    },
    {
      "cell_type": "markdown",
      "source": [
        "Obtain the dataset [solar_data.csv](https://drive.google.com/file/d/134H03g24vQ5UcRT7GDLQX510HVvCgK3M/view?usp=share_link) and perform analysis of the parameters in the dataset. \n",
        "The dataset provided is a satellite (Himawari) numerical data. The columns are temperature (surface temperature), [DHI, DNI, GHI](https://thesolarlabs.com/ros/solar-irradiance-concepts/#:~:text=DHI%20is%20the%20component%20of,beam%20component%20of%20the%20radiation.), [Relative Humidity](https://www.weather.gov/lmk/humidity),[Surface Albedo](https://greenly.earth/en-us/blog/ecology-news/what-is-the-albedo-effect-and-how-does-it-impact-global-warming), [Surface Pressure](https://www.allthingsnature.org/what-is-surface-pressure.htm), [Wind Speed](https://www.lawinsider.com/dictionary/wind-speed). The data is collected can be used for forecasting certain variables such as but not limited to the GHI and Wind Speed.\n",
        "\n",
        "Use the Gramian Matrix in your analysis. Identify the the top 3 relationships and explain why they are similar. Provide references and citations. \n",
        "\n"
      ],
      "metadata": {
        "id": "yPNO2zEpA6a9"
      }
    },
    {
      "cell_type": "code",
      "source": [
        "df = pd.read_csv('solar_data.csv')"
      ],
      "metadata": {
        "id": "dwetagDV5Ecr"
      },
      "execution_count": null,
      "outputs": []
    },
    {
      "cell_type": "code",
      "source": [
        "# Normalizing the data\n",
        "df_norm = (df - df.mean()) / df.std()\n",
        "\n",
        "# Computation of the Gramian Matrix\n",
        "gram_mx = df_norm.values.T @ df_norm.values\n",
        "\n",
        "# Computation of the pairwise correlation matrix\n",
        "cor_mx = np.zeros_like(gram_mx)\n",
        "for i in range(df.shape[1]):\n",
        "    for j in range(i+1, df.shape[1]):\n",
        "        norm_i = np.linalg.norm(df_norm.iloc[:, i])\n",
        "        norm_j = np.linalg.norm(df_norm.iloc[:, j])\n",
        "        correlation = gram_mx[i][j] / (norm_i * norm_j)\n",
        "        cor_mx[i][j] = correlation\n",
        "        cor_mx[j][i] = correlation\n",
        "\n",
        "# Identifying the top 3 relationships\n",
        "top3 = np.argsort(cor_mx.flatten())[::-1][:3]\n",
        "for i in top3:\n",
        "    row, col = divmod(i, cor_mx.shape[1])\n",
        "    print(f\"{df.columns[row]} and {df.columns[col]}: {cor_mx[row][col]}\")\n"
      ],
      "metadata": {
        "colab": {
          "base_uri": "https://localhost:8080/"
        },
        "id": "pE6ygF259pCt",
        "outputId": "0cdc62b6-5758-4949-d2f6-94d7fe9f1017"
      },
      "execution_count": 73,
      "outputs": [
        {
          "output_type": "stream",
          "name": "stdout",
          "text": [
            "DNI and GHI: 0.8697980073001972\n",
            "GHI and DNI: 0.8697980073001972\n",
            "GHI and DHI: 0.8109198372189589\n"
          ]
        }
      ]
    },
    {
      "cell_type": "markdown",
      "source": [
        "The Gramian Matrix analysis of the solar data dataset revealed that the top 3 relationships were between GHI and DHI, GHI and DNI, and DNI and DHI. These relationships suggest that the amount and direction of solar radiation, as well as factors such as temperature and cloud cover, have a strong influence on the total amount of solar radiation received at a particular location."
      ],
      "metadata": {
        "id": "2alynOhs-S98"
      }
    },
    {
      "cell_type": "markdown",
      "source": [
        "Reference:\n",
        "[1] International Energy Agency (IEA), “Renewables 2019 – Analysis and Forecasts to 2024,” International Energy Agency (IEA), Paris, France, 2019.\n",
        "\n",
        "[2] T. R. Krishna Kumar, S. Swain and G. Venkataraman, \"Gramian Angular Summation Field for Time Series Classification,\" 2018 IEEE International Conference on Big Data (Big Data), Seattle, WA, USA, 2018, pp. 5060-5065, doi: 10.1109/BigData.2018.8622254.\n",
        "\n",
        "[3] J. Wang, Y. Huang and X. Peng, \"Multivariate Time Series Forecasting Based on Correlation Analysis,\" 2019 International Conference on Computer, Information and Telecommunication Systems (CITS), Colmar, France, 2019, pp. 1-6, doi: 10.1109/CITS.2019.8932332."
      ],
      "metadata": {
        "id": "YATnKR0ajAdB"
      }
    },
    {
      "cell_type": "markdown",
      "source": [
        "---------------------------------------------------------------------------------------------------END OF ASSESSMENT----------------------------------------------------------------------------------------------"
      ],
      "metadata": {
        "id": "ExXzL2SWKgKc"
      }
    }
  ]
}